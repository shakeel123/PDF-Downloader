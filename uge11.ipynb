{
 "cells": [
  {
   "cell_type": "markdown",
   "id": "ff6e96b4",
   "metadata": {},
   "source": [
    "# Uge11:  PDF downloader\n",
    "\n",
    "### Opgave beskrivelse\n",
    "\n",
    "\n",
    "Din kunde har et gammelt Python script, som efter et par år i drift ikke fungerer mere.\n",
    "\n",
    "Du modtager følgende beskrivelse fra din kunde:\n",
    "\n",
    " \n",
    "\n",
    "”Kære Konsulent \n",
    "\n",
    "Som aftalt har du hermed listen (inkl. metadata) ang. de rapporter vi gerne vil have downloaded (”GRI_2017_2020”).,\n",
    "\n",
    ",\n",
    "\n",
    ",\n",
    "\n",
    ",\n",
    "\n",
    "Din opgave er nu i dag, at:\n",
    "\n",
    "-  Du skal beslutte dig for om du vil opdatere det skrevne Python script eller lavet et nyt. Du har frit valg mht. programmeringssprog, da kunden netop efterspørger din hjælp.\n",
    "\n",
    "- En featureliste/Kravspec skal udarbejdes inden du går i gang med din løsning."
   ]
  },
  {
   "cell_type": "markdown",
   "id": "a9673798",
   "metadata": {},
   "source": [
    "## Introduktion:\n",
    "\n",
    "Formålet med denne automatiserings PDF-Downloader opgave er at processen med at downloade PDF-rapporter fra en liste over \n",
    "\n",
    "webadresser given i Excel-filer **GRI_2017_2020** og **Metadata2006_2016**.\n",
    "\n",
    "Ved at udnytte Pythons muligheder og biblioteker som pandas og urllib sigter vi mod at udvikle en robust og effektiv løsning,\n",
    "\n",
    "der eliminerer behovet for manuel indgriben.\n",
    "\n",
    "I denne dokumentationen vil vi dykke ned i Python-kodeimplementeringen og demonstrere funktionaliteten gennem en interaktiv\n",
    "\n",
    "terminal. Ved at automatisere PDF-rapportdownloads sparer vi ikke kun tid og kræfter, men sikrer også nøjagtighed og konsistens i datahentning.\n"
   ]
  },
  {
   "cell_type": "markdown",
   "id": "abf7602f",
   "metadata": {},
   "source": [
    "## Kravspecifikationer:\n",
    "\n",
    "- Script skal være pålidelig og i stand til at håndtere forskellige scenarier, herunder korrekte og forkerte URL,er samt eventuelle fejl under downloadprocessen.\n",
    "\n",
    "\n",
    "- Script kan håndtere store mængder data hurtigt og er effektiv.\n",
    "\n",
    "- Script skal være i stand til at håndtere fejl og uventede situationer på en elegent måde, således den ikke bryder ned eller stopper midt i processen.\n",
    "\n",
    "- Script skal tiilpasses forskellige dataformater.\n",
    "\n",
    "- Script skal håndtere og  download fra usikre kilder, implementere passende sikkerhedsforanstaltninger for at beskytte mod trusler og sikre datasikkerheden.\n"
   ]
  },
  {
   "cell_type": "markdown",
   "id": "514c37be",
   "metadata": {},
   "source": [
    "Lad os starte med importring vigtige biblioteker."
   ]
  },
  {
   "cell_type": "code",
   "execution_count": 7,
   "id": "1e528407",
   "metadata": {},
   "outputs": [],
   "source": [
    "import pandas as pd  #import neccessary libraries\n",
    "from urllib import request, error"
   ]
  },
  {
   "cell_type": "markdown",
   "id": "41a56007",
   "metadata": {},
   "source": [
    "## Define Funtions:\n",
    "\n",
    "Funktionen formål er at downloade en PDF-rapport fra en given URL og gemme den lokalt på computeren.\n",
    "\n",
    "\n",
    "Parametre:\n",
    "\n",
    "**url:** URL'en for PDF-rapporten, som skal downloades.\n",
    "\n",
    "**save_path:** Filstien, hvor den downloadede rapport skal gemmes.\n",
    "\n",
    "**Try-Except-blok:**\n",
    "\n",
    "Koden er omgivet af en try-except-blok for at håndtere eventuelle fejl under downloadprocessen.\n",
    "\n",
    "Hvis der opstår en URLError (f.eks. forbindelsesproblemer), eller en anden type fejl, vil funktionen returnere False og udskrive en fejlbesked.\n",
    "\n",
    "\n",
    "**Funktionen** åbner en forbindelse til den angivne URL og kontrollerer, om svaret har status 200 (OK).\n",
    "\n",
    "Hvis svaret er 200, åbner den den angivne filsti i binært skrivetilstand ('wb') og skriver indholdet af svaret til filen.\n",
    "Hvis svaret ikke er 200, returnerer den False for at angive, at downloaden mislykkedes."
   ]
  },
  {
   "cell_type": "code",
   "execution_count": 2,
   "id": "7cea0ffa",
   "metadata": {},
   "outputs": [],
   "source": [
    "# Function to download PDF reports\n",
    "def download_report(url, save_path):\n",
    "    try:\n",
    "        with request.urlopen(url) as response:\n",
    "            if response.status == 200:\n",
    "                with open(save_path, 'wb') as file:\n",
    "                    file.write(response.read())\n",
    "                return True\n",
    "            else:\n",
    "                return False\n",
    "    except error.URLError as e:\n",
    "        print(f\"Error downloading report: {e.reason}\")\n",
    "        return False\n",
    "    except Exception as e:\n",
    "        print(f\"Error downloading report: {e}\")\n",
    "        return False"
   ]
  },
  {
   "cell_type": "markdown",
   "id": "c6f70c15",
   "metadata": {},
   "source": [
    "## Læsning af data-filer til pandas DataFrames: ( nedenudner-kode)\n",
    "\n",
    "\n",
    "Indlæsning til to Excel-filer, **'Metadata2006_2016.xlsx'** og **'GRI_2017_2020.xlsx'**, er angivet i variablerne **metadata_file** og **report_list_file**.\n",
    "\n",
    "Tomme værdier i 'Pdf_URL'-kolonnen i **report_list_df** erstattes med en tom streng (''), så der ikke opstår problemer senere under behandlingen.\n",
    "\n",
    "En ny kolonne med navnet **'Report Name'** tilføjes til metadata_df, og data fra **'BRnum'-kolonnen** i **report_list_df**\n",
    "\n",
    "kopieres ind i denne nye kolonne. Dette antages at være en måde at knytte rapportnavne til metadataen fra den anden fil.\n",
    "\n",
    "Denne kode sikrer, at data fra de angivne Excel-filer indlæses korrekt i DataFrames, og eventuelle mangler eller nødvendige tilføjelser behandles, så dataene er klar til yderligere behandling eller analyse.\n"
   ]
  },
  {
   "cell_type": "code",
   "execution_count": 8,
   "id": "b43cac88",
   "metadata": {},
   "outputs": [],
   "source": [
    "# Read Excel files\n",
    "metadata_file = 'Metadata2006_2016.xlsx'\n",
    "report_list_file = 'GRI_2017_2020.xlsx'\n",
    "\n",
    "metadata_df = pd.read_excel(metadata_file, engine='openpyxl')\n",
    "report_list_df = pd.read_excel(report_list_file, engine='openpyxl')\n",
    "\n",
    "# Fix empty values in Pdf_URL column\n",
    "report_list_df['Pdf_URL'].fillna('', inplace=True)\n",
    "\n",
    "# Add 'Report Name' column to metadata_df\n",
    "metadata_df['Report Name'] = report_list_df['BRnum']\n"
   ]
  },
  {
   "cell_type": "markdown",
   "id": "3adccba5",
   "metadata": {},
   "source": [
    "## Function to download reports by index:\n",
    "\n",
    "Funktionen **download_report_by_index** tager et indeks som inputparameter og downloader rapporten med det angivne indeks fra **report_list_df**.\n",
    "\n",
    "\n",
    "Først kontrolleres, om det angivne indeks er gyldigt (dvs. ikke negativt og inden for rækkevidden af rækker i **report_list_df**).\n",
    "\n",
    "Herefter hentes dataene for den pågældende række (rapport) fra **report_list_df**.\n",
    "\n",
    "URL'en til PDF-rapporten og rapportens BR-nummer (antaget som et identifikationsnummer) udtrækkes fra den pågældende række.\n",
    "\n",
    "\n",
    "Der kontrolleres, om PDF-URL'en ikke er tom. Hvis den ikke er det, forsøges rapporten downloadet ved hjælp af **download_report**-funktionen.\n",
    "\n",
    "\n",
    "Afhængigt af downloadstatus opdateres **'Status'-kolonnen** i status_df med enten **'Downloaded'** eller **'Not downloaded'**.\n",
    "\n",
    "\n",
    "Der udskrives en meddelelse om, hvorvidt rapporten blev downloadet eller ej, og processen fortsætter til den næste rapport.\n",
    "\n",
    "\n",
    "Denne kode sikrer, at downloadstatussen for hver rapport registreres i **status_df** efterhånden som rapporterne downloades, hvilket giver brugeren en oversigt over, hvilke rapporter der er blevet hentet succesfuldt.\n"
   ]
  },
  {
   "cell_type": "code",
   "execution_count": 4,
   "id": "3ac0adc9",
   "metadata": {},
   "outputs": [],
   "source": [
    "# Create a new DataFrame with 'Report Name' and 'Status' columns\n",
    "status_df = pd.DataFrame({'Report Name': metadata_df['Report Name'], 'Status': ''})\n",
    "\n",
    "# Function to download report by index\n",
    "def download_report_by_index(index):\n",
    "    if index < 0 or index >= len(report_list_df):\n",
    "        print(\"Invalid index.\")\n",
    "        return\n",
    "    row = report_list_df.iloc[index]\n",
    "    pdf_url = row['Pdf_URL']\n",
    "    br_nummer = row['BRnum']\n",
    "    \n",
    "    # Check if Pdf_URL is not empty\n",
    "    if pdf_url:\n",
    "        success = download_report(pdf_url, f\"{br_nummer}.pdf\")\n",
    "        if success:\n",
    "            print(f\"Report {br_nummer} was downloaded.\")\n",
    "            status_df.at[index, 'Status'] = 'Downloaded'\n",
    "        else:\n",
    "            print(f\"Report {br_nummer} could not be downloaded.\")\n",
    "            status_df.at[index, 'Status'] = 'Not downloaded'\n",
    "    else:\n",
    "        print(f\"No PDF URL found for index {index}. Skipping.\")\n"
   ]
  },
  {
   "cell_type": "markdown",
   "id": "be2d3197",
   "metadata": {},
   "source": [
    "## Test og Implement an interactive terminal:\n",
    "\n",
    "For User input laver vi intraktiv terminal, hvor brugeren kan angive indekset for den rapport, der skal downloades.\n",
    "\n",
    "**Download af rapport**\n",
    "\n",
    "Hvis brugeren angiver et gyldigt indeks, kaldes funktionen **download_report_by_index** for at downloade den tilsvarende rapport.\n",
    "\n",
    "Før downloaden aktiveres, justeres indekset ved at trække 1 fra. Dette skyldes, at brugerinput indekset baseres på 1, mens Python-indeksering starter fra 0.\n",
    "\n",
    "Hvis brugeren indtaster exit_index, i.e -1 vil while-løkken blive afbrudt, og interaktionen afsluttes.\n",
    "python\n",
    "\n",
    "koden skriver også statusen for rapporterne til en Excel-fil ved hjælp af **to_excel()**-funktionen fra pandas.\n",
    "\n",
    "Til sidst udskrives en meddelelse om, at statussen for rapporterne er gemt i filen **'Report_Status.xlsx'**."
   ]
  },
  {
   "cell_type": "code",
   "execution_count": 5,
   "id": "32c7eb38",
   "metadata": {},
   "outputs": [
    {
     "name": "stdout",
     "output_type": "stream",
     "text": [
      "Enter the index of the report to download (-1 to exit): 0\n",
      "Invalid index.\n",
      "Enter the index of the report to download (-1 to exit): 1\n",
      "Report BR50041 was downloaded.\n",
      "Enter the index of the report to download (-1 to exit): 2\n",
      "Report BR50042 was downloaded.\n",
      "Enter the index of the report to download (-1 to exit): 3\n",
      "Error downloading report: Forbidden\n",
      "Report BR50043 could not be downloaded.\n",
      "Enter the index of the report to download (-1 to exit): 4\n",
      "Error downloading report: [WinError 3] Den angivne sti blev ikke fundet: 'C:\\\\Users\\\\miller\\\\Downloads\\\\AA_AR2017.pdf'\n",
      "Report BR50044 could not be downloaded.\n",
      "Enter the index of the report to download (-1 to exit): 5\n",
      "Report BR50045 was downloaded.\n",
      "Enter the index of the report to download (-1 to exit): 6\n",
      "No PDF URL found for index 5. Skipping.\n",
      "Enter the index of the report to download (-1 to exit): 1000\n",
      "Error downloading report: Not Found\n",
      "Report BR51040 could not be downloaded.\n",
      "Enter the index of the report to download (-1 to exit): 2000\n",
      "Report BR52040 was downloaded.\n",
      "Enter the index of the report to download (-1 to exit): -1\n",
      "Status of reports saved to 'Report_Status.xlsx'.\n"
     ]
    }
   ],
   "source": [
    "# Interactive terminal\n",
    "exit_index = -1  # Define the exit index\n",
    "while True:\n",
    "    try:\n",
    "        index = int(input(f\"Enter the index of the report to download ({exit_index} to exit): \"))\n",
    "        if index == exit_index:\n",
    "            break\n",
    "        if index < 0:\n",
    "            print(\"Invalid index. Index must be non-negative.\")\n",
    "            continue\n",
    "        download_report_by_index(index - 1)  # Adjusted index by subtracting 1\n",
    "    except ValueError:\n",
    "        print(\"Invalid input. Please enter a valid index.\")\n",
    "       \n",
    "    \n",
    "# Write status DataFrame to a new Excel file\n",
    "status_file = 'Report_Status.xlsx'\n",
    "status_df.to_excel(status_file, index=False)\n",
    "print(f\"Status of reports saved to '{status_file}'.\")"
   ]
  },
  {
   "cell_type": "markdown",
   "id": "fc7bcddb",
   "metadata": {},
   "source": [
    "\n",
    "## End of Notebook"
   ]
  },
  {
   "cell_type": "markdown",
   "id": "9cffbc8c",
   "metadata": {},
   "source": [
    "This notebook is created by: Shakeel Ahmed."
   ]
  },
  {
   "cell_type": "code",
   "execution_count": null,
   "id": "15622f80",
   "metadata": {},
   "outputs": [],
   "source": []
  }
 ],
 "metadata": {
  "kernelspec": {
   "display_name": "Python 3 (ipykernel)",
   "language": "python",
   "name": "python3"
  },
  "language_info": {
   "codemirror_mode": {
    "name": "ipython",
    "version": 3
   },
   "file_extension": ".py",
   "mimetype": "text/x-python",
   "name": "python",
   "nbconvert_exporter": "python",
   "pygments_lexer": "ipython3",
   "version": "3.11.5"
  }
 },
 "nbformat": 4,
 "nbformat_minor": 5
}
